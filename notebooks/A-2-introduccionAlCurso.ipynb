{
 "cells": [
  {
   "cell_type": "markdown",
   "id": "2fa7170b-7994-4a33-9d79-63a8653687fe",
   "metadata": {},
   "source": [
    "# A: Introducción al Curso y Material\n",
    "\n",
    "Para la introducción al curso vamos a hacer uso de [esta presentación (PDF)](./ficherosAuxiliares/AstronomiaPython.pdf).\n",
    "\n",
    "Los *Jupyter Notebooks* que vamos a ir usando puedes [descargarlos aquí](./ficherosAuxiliares/notebooks.zip) (Actualizado 09/04/2022). Y las imágenes, sonidos y espectros que usaremos puedes descargarlas de:\n",
    "\n",
    "+ [imagenes.zip](https://mega.nz/file/uqA1DLLA#4MceAFW4k7fHFwSB7XeuvYasxrrmyV7UfpkCczt5-cw)\n",
    "+ [espectros.zip](https://mega.nz/file/OzwAELRB#iJCfxHcg23jLML__TfGtEYLjdDk95PTxG9pITjFjIZU)\n",
    "+ [sonidos.zip](https://mega.nz/file/yipESJDY#mnSwNmfi8Lbw9iotIzSl-glnQ51ON8EObDHFF5aTKig)\n",
    "  \n",
    "[![](./ficherosAuxiliares/portadaCurso.jpg)](./ficherosAuxiliares/AstronomiaPython.pdf)"
   ]
  }
 ],
 "metadata": {
  "kernelspec": {
   "display_name": "Python 3",
   "language": "python",
   "name": "python3"
  },
  "language_info": {
   "codemirror_mode": {
    "name": "ipython",
    "version": 3
   },
   "file_extension": ".py",
   "mimetype": "text/x-python",
   "name": "python",
   "nbconvert_exporter": "python",
   "pygments_lexer": "ipython3",
   "version": "3.8.13"
  }
 },
 "nbformat": 4,
 "nbformat_minor": 5
}
