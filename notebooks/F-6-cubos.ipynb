{
 "cells": [
  {
   "cell_type": "markdown",
   "id": "b103fc01-eb9f-4617-a838-af349d3e2ff5",
   "metadata": {},
   "source": [
    "# F: Cubos de imágenes"
   ]
  },
  {
   "cell_type": "markdown",
   "id": "74f8f1dd-1e00-4e12-8485-2a34fb0cdef5",
   "metadata": {},
   "source": [
    "En el anterior `notebook`, el estudio de espectros de `SDSS` se basaba como hemos visto en un solo espectro por galaxia. Actualmente se realiza lo que conocemos como espectrografía *IFU (Integral Field Unit)*. Gracias a esta técnica podemos obtener un espectro de una galaxia entera, es decir, ya no solo de su centro, sino también de su estructura.\n",
    "\n",
    "Para ello los datos `IFU` que obtenemos son cubos de imágenes, donde en dos ejes tenemos la posición de la galaxia y en un tercer eje tenemos el espectro de cada punto de la galaxia."
   ]
  },
  {
   "cell_type": "markdown",
   "id": "f45daf90-e12b-4336-8a39-ab7efc79c271",
   "metadata": {},
   "source": [
    "![](ficherosAuxiliares/the-spectral-data-cube.png)\n",
    "\n",
    "[Fuente de la imagen](https://www.researchgate.net/figure/the-spectral-data-cube_fig3_281067250)"
   ]
  },
  {
   "cell_type": "markdown",
   "id": "826f8950-0f4a-4cb9-a6c7-13f27876959c",
   "metadata": {},
   "source": [
    "![](ficherosAuxiliares/data_cube.jpg)\n",
    "\n",
    "[Fuente de la imagen](https://www.sdss.org/dr16/manga/manga-tutorials/cubes-vs-rss/)"
   ]
  },
  {
   "cell_type": "markdown",
   "id": "a7f9e3c9-22de-4bb8-8cc1-f59fca17de6f",
   "metadata": {},
   "source": [
    "## Datos de MaNGA (*Mapping Nearby Galaxies at APO*)"
   ]
  },
  {
   "cell_type": "markdown",
   "id": "e8822e9b-982a-426c-9b6c-c100ce8d85c2",
   "metadata": {},
   "source": [
    "`MaNGA` es el proyecto `SDSS` más reciente que tiene como objetivo mapear la composición detallada y la estructura cinemática de 10,000 galaxias cercanas. `MaNGA` utiliza `IFUs` para poder analizar las propiedades de las galaxias"
   ]
  },
  {
   "cell_type": "markdown",
   "id": "932a626c-5f55-4f8e-9305-837bce189e02",
   "metadata": {},
   "source": [
    "Las `IFUs` de `MaNGA` son un grupo de fibras llamadas *bundles*, en el que cada fibra individual produce un espectro. Debido a que las fibras son circulares, `MaNGA` o cualquier instrumento que utilice este tipo de fibras, necesita realizar lo que se conoce como *dithering*, esto es tomar diferentes datos realizando pequeños movimientos entre la obtención de cubos de imagenes para poder llenar los huecos que hay entre las fibras.\n",
    "\n",
    "A partir de los datos que obtenemos para cada fibra, resueltos espacialmente através de la posición del objeto (`RA` / `Dec`), podemos generar una imagen en la parte del espectro que queramos."
   ]
  },
  {
   "cell_type": "markdown",
   "id": "325425c1-a1b2-4675-a2dc-54ce2fb43b11",
   "metadata": {},
   "source": [
    "## Galaxia 024837.58-003315.4"
   ]
  },
  {
   "cell_type": "markdown",
   "id": "4bb217df-baf1-4cea-b823-bfc7a4e49c11",
   "metadata": {},
   "source": [
    "Abrimos el cubo como si de una imagen se tratase"
   ]
  },
  {
   "cell_type": "code",
   "execution_count": 1,
   "id": "2bd1d0f3-d3cc-437d-aea3-165420733f37",
   "metadata": {},
   "outputs": [
    {
     "name": "stdout",
     "output_type": "stream",
     "text": [
      "Number of cubes in dir: 1\n"
     ]
    },
    {
     "name": "stderr",
     "output_type": "stream",
     "text": [
      "WARNING: FITSFixedWarning: PLATEID = 8078 / Current plate \n",
      "a string value was expected. [astropy.wcs.wcs]\n",
      "WARNING: FITSFixedWarning: 'datfix' made the change 'Set MJD-OBS to 57309.000000 from DATE-OBS'. [astropy.wcs.wcs]\n"
     ]
    }
   ],
   "source": [
    "from astropy.io import fits\n",
    "from astropy.wcs import WCS\n",
    "import glob\n",
    "import matplotlib.pyplot as plt\n",
    "import numpy as np\n",
    "\n",
    "fileList = sorted(glob.glob('imagenes/cubo/*'))\n",
    "print ('Number of cubes in dir:', len(fileList))\n",
    "fileList[0]\n",
    "hdul = fits.open(fileList[0])\n",
    "\n",
    "data = hdul[1].data\n",
    "header = hdul[1].header\n",
    "wcs_cube = WCS(header)\n",
    "\n",
    "y_center, x_center = int(header['CRPIX1']), int(header['CRPIX2'])"
   ]
  },
  {
   "cell_type": "code",
   "execution_count": 2,
   "id": "46078f87-6e06-4003-9fe0-0f6a907f4411",
   "metadata": {},
   "outputs": [
    {
     "data": {
      "text/plain": [
       "XTENSION= 'IMAGE   '           / IMAGE extension                                \n",
       "BITPIX  =                  -32 / Number of bits per data pixel                  \n",
       "NAXIS   =                    3 / Number of data axes                            \n",
       "NAXIS1  =                   74 /                                                \n",
       "NAXIS2  =                   74 /                                                \n",
       "NAXIS3  =                 4563 /                                                \n",
       "PCOUNT  =                    0 / No Group Parameters                            \n",
       "GCOUNT  =                    1 / One Data Group                                 \n",
       "AUTHOR  = 'Brian Cherinka & David Law <bcherin1@jhu.edu, dlaw@stsci.edu>' /     \n",
       "VERSDRP2= 'v2_4_3  '           / MaNGA DRP version (2d processing)              \n",
       "VERSDRP3= 'v2_4_3  '           / MaNGA DRP Version (3d processing)              \n",
       "VERSPLDS= 'v2_52   '           / Platedesign Version                            \n",
       "VERSFLAT= 'v1_31   '           / Specflat Version                               \n",
       "VERSCORE= 'v1_6_2  '           / MaNGAcore Version                              \n",
       "VERSPRIM= 'v2_5    '           / MaNGA Preimaging Version                       \n",
       "VERSUTIL= 'v5_5_32 '           / Version of idlutils                            \n",
       "VERSIDL = 'x86_64 linux unix linux 7.1.1 Aug 21 2009 64 64 ' / Version of IDL   \n",
       "BSCALE  =              1.00000 / Intensity unit scaling                         \n",
       "BZERO   =              0.00000 / Intensity zeropoint                            \n",
       "BUNIT   = '1E-17 erg/s/cm^2/Ang/spaxel' / Specific intensity (per spaxel)       \n",
       "MASKNAME= 'MANGA_DRP3PIXMASK'  / Bits in sdssMaskbits.par used by mask extension\n",
       "TELESCOP= 'SDSS 2.5-M'         / Sloan Digital Sky Survey                       \n",
       "INSTRUME= 'MaNGA   '           / SDSS-IV MaNGA IFU                              \n",
       "SRVYMODE= 'MaNGA dither'       / Survey leading this observation and its mode   \n",
       "PLATETYP= 'APOGEE-2&MaNGA'     / Type of plate (e.g. MaNGA, APOGEE-2&MANGA)     \n",
       "OBJSYS  = 'ICRS    '           / The TCC objSys                                 \n",
       "EQUINOX =              2000.00 /                                                \n",
       "RADESYS = 'FK5     '           /                                                \n",
       "LAMPLIST= 'lamphgcdne.dat'     /                                                \n",
       "TPLDATA = 'BOSZ_3000-11000A.fits' /                                             \n",
       "NEXP    =                    9 / Total number of exposures                      \n",
       "EXPTIME =              8100.81 / Total exposure time (seconds)                  \n",
       "BLUESN2 =              19.6000 / Total SN2 in blue channel                      \n",
       "REDSN2  =              39.4569 / Total SN2 in red channel                       \n",
       "AIRMSMIN=              1.19701 / Minimum airmass                                \n",
       "AIRMSMED=              1.21160 / Median airmass                                 \n",
       "AIRMSMAX=              1.28464 / Maximum airmass                                \n",
       "SEEMIN  =              1.46489 / Best guider seeing                             \n",
       "SEEMED  =              1.53414 / Median guider seeing                           \n",
       "SEEMAX  =              1.66010 / Worst guider seeing                            \n",
       "TRANSMIN=             0.907613 / Worst guider transparency                      \n",
       "TRANSMED=             0.916000 / Median guider transparency                     \n",
       "TRANSMAX=             0.926174 / Best guider transparency                       \n",
       "MJDMIN  =                57309 / MJD of first exposure                          \n",
       "MJDMED  =                57309 / MJD of median exposure                         \n",
       "MJDMAX  =                57309 / MJD of last exposure                           \n",
       "DATE-OBS= '2015-10-14'         / Date of median exposure                        \n",
       "MJDRED  =                58197 / MJD of the reduction                           \n",
       "DATERED = '2018-03-20'         / Date of the reduction                          \n",
       "MNGTARG1=                 2336 / manga_target1 maskbit                          \n",
       "MNGTARG2=                    0 / manga_target2 maskbit                          \n",
       "MNGTARG3=                    0 / manga_target3 maskbit                          \n",
       "IFURA   =        42.1567760000 / IFU R.A. (J2000 deg.)                          \n",
       "IFUDEC  =      -0.554292590000 / IFU Dec. (J2000 deg.)                          \n",
       "OBJRA   =        42.1567757009 / Object R.A. (J2000 deg.)                       \n",
       "OBJDEC  =      -0.554292603774 / Object Dec. (J2000 deg.)                       \n",
       "CENRA   =        41.3331000000 / Plate center R.A. (J2000 deg.)                 \n",
       "CENDEC  =        0.00000000000 / Plate center Dec. (J2000 deg.)                 \n",
       "PLATEID =                 8078 / Current plate                                  \n",
       "DESIGNID=                 8638 / Current design                                 \n",
       "IFUDSGN =                12704 / ifuDesign                                      \n",
       "FRLPLUG =                   34 / Plugged ferrule                                \n",
       "PLATEIFU= '8078-12704'         / PLATEID-ifuDesign                              \n",
       "CARTID  = '3       '           / Cart(s) used                                   \n",
       "HARNAME = 'ma076   '           / Harness name(s)                                \n",
       "METFILE = 'ma076-56887-1.par'  / IFU metrology file(s)                          \n",
       "MANGAID = '1-109073'           / MaNGA ID number                                \n",
       "CATIDNUM= '1       '           / Primary target input catalog                   \n",
       "PLTTARG = 'plateTargets-1.par' / plateTarget reference file                     \n",
       "DRP3QUAL=                   64 / DRP-3d quality bitmask                         \n",
       "IFUGLON =        174.445513341 / IFU Galactic longitude (deg)                   \n",
       "IFUGLAT =       -51.3087918114 / IFU Galactic latitude (deg)                    \n",
       "EBVGAL  =            0.0418251 / Galactic reddening E(B-V)                      \n",
       "GFWHM   =              2.53556 / Reconstructed FWHM in g-band (arcsec)          \n",
       "RFWHM   =              2.49654 / Reconstructed FWHM in r-band (arcsec)          \n",
       "IFWHM   =              2.47039 / Reconstructed FWHM in i-band (arcsec)          \n",
       "ZFWHM   =              2.43737 / Reconstructed FWHM in z-band (arcsec)          \n",
       "CTYPE3  = 'WAVE-LOG'           /                                                \n",
       "CRPIX3  =                    1 / Starting pixel (1-indexed)                     \n",
       "CRVAL3  =        3621.59598486 / Central wavelength of first pixel              \n",
       "CD3_3   =       0.833903304339 / Initial dispersion per pixel                   \n",
       "CUNIT3  = 'Angstrom'           /                                                \n",
       "CRPIX1  =              38.0000 /Reference pixel (1-indexed)                     \n",
       "CRPIX2  =              38.0000 /Reference pixel (1-indexed)                     \n",
       "CRVAL1  =        42.1567760000 /                                                \n",
       "CRVAL2  =      -0.554292590000 /                                                \n",
       "CD1_1   =         -0.000138889 /                                                \n",
       "CD2_2   =          0.000138889 /                                                \n",
       "CTYPE1  = 'RA---TAN'           /                                                \n",
       "CTYPE2  = 'DEC--TAN'           /                                                \n",
       "CUNIT1  = 'deg     '           /                                                \n",
       "CUNIT2  = 'deg     '           /                                                \n",
       "HDUCLASS= 'SDSS    '           /SDSS format class                               \n",
       "HDUCLAS1= 'CUBE    '           /                                                \n",
       "HDUCLAS2= 'DATA    '           /                                                \n",
       "ERRDATA = 'IVAR    '           / Error extension name                           \n",
       "QUALDATA= 'MASK    '           / Mask extension name                            \n",
       "EXTNAME = 'FLUX    '           /                                                \n",
       "DATASUM = '1524664746'         / data unit checksum updated 2018-03-20T23:20:32 \n",
       "CHECKSUM= 'EXOMFXLLEXLLEXLL'   / HDU checksum updated 2018-03-20T23:20:32       "
      ]
     },
     "execution_count": 2,
     "metadata": {},
     "output_type": "execute_result"
    }
   ],
   "source": [
    "header"
   ]
  },
  {
   "cell_type": "code",
   "execution_count": 3,
   "id": "5ac2f9b8-0544-4d52-bed4-a429dbe490f5",
   "metadata": {},
   "outputs": [
    {
     "data": {
      "text/plain": [
       "Text(0, 0.5, 'Flujo [1E-17 erg/s/cm^2/Ang/spaxel]')"
      ]
     },
     "execution_count": 3,
     "metadata": {},
     "output_type": "execute_result"
    },
    {
     "data": {
      "image/png": "[encoded data removed]",
      "text/plain": [
       "<Figure size 576x576 with 1 Axes>"
      ]
     },
     "metadata": {
      "needs_background": "light"
     },
     "output_type": "display_data"
    }
   ],
   "source": [
    "plt.figure(figsize=(8, 8))\n",
    "plt.plot(hdul[1].data[:, y_center ,x_center]) \n",
    "plt.xlabel(r'Pixeles en el eje \\lambda')\n",
    "plt.ylabel(f\"Flujo [{header['BUNIT']}]\")"
   ]
  },
  {
   "cell_type": "markdown",
   "id": "59d2e5ae-7ae3-4a77-81ea-21a8d3ebb4d4",
   "metadata": {},
   "source": [
    "Para convertir nuestro eje x en longitud de onda deberemos tener en cuenta los valores de `CRVAL3`, `CRPIX3` y `CRDEL3`, es decir los del tercer eje que se corresponde a la longitud de onda."
   ]
  },
  {
   "cell_type": "code",
   "execution_count": 4,
   "id": "ced53dba-21c7-41b0-8dab-af92fbee23ab",
   "metadata": {},
   "outputs": [
    {
     "data": {
      "image/png": "[encoded data removed]",
      "text/plain": [
       "<Figure size 576x576 with 1 Axes>"
      ]
     },
     "metadata": {
      "needs_background": "light"
     },
     "output_type": "display_data"
    }
   ],
   "source": [
    "plt.figure(figsize=(8, 8))\n",
    "plt.imshow(hdul[1].data[2500, :, :], origin='lower') \n",
    "plt.xlabel('Pixeles')\n",
    "plt.ylabel(\"Pixeles\")\n",
    "plt.show()"
   ]
  }
 ],
 "metadata": {
  "kernelspec": {
   "display_name": "Python 3",
   "language": "python",
   "name": "python3"
  },
  "language_info": {
   "codemirror_mode": {
    "name": "ipython",
    "version": 3
   },
   "file_extension": ".py",
   "mimetype": "text/x-python",
   "name": "python",
   "nbconvert_exporter": "python",
   "pygments_lexer": "ipython3",
   "version": "3.8.13"
  }
 },
 "nbformat": 4,
 "nbformat_minor": 5
}
