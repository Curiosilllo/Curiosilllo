{
 "cells": [
  {
   "cell_type": "markdown",
   "id": "2c0fa9c0-c31d-454f-8b7d-7d171fb17a91",
   "metadata": {},
   "source": [
    "# B: Ejercicios resueltos del módulo \"Introducción a Python\""
   ]
  },
  {
   "cell_type": "markdown",
   "id": "b01cf5f0-2eca-4407-9faf-4ad0e18f61fc",
   "metadata": {},
   "source": [
    "***\n",
    "**Ejercicio B.1:**\n",
    "\n",
    "Calculemos el valor del polinomio $f(x) = a x^2 + bx + c$ (con valores $a$, $b$ y $c$) en un punto $x$ a su elección."
   ]
  },
  {
   "cell_type": "code",
   "execution_count": 1,
   "id": "466a5311-ef21-4c74-ae22-9157c6a882d1",
   "metadata": {},
   "outputs": [
    {
     "name": "stdout",
     "output_type": "stream",
     "text": [
      "8\n"
     ]
    }
   ],
   "source": [
    "a = 2     \n",
    "b = 1\n",
    "c = -2\n",
    "x = 2\n",
    "\n",
    "resultado = a * x ** 2 + b * x + c\n",
    "\n",
    "print(resultado)"
   ]
  },
  {
   "cell_type": "markdown",
   "id": "bc075e52-602c-4295-b064-39f628fc7d68",
   "metadata": {},
   "source": [
    "***\n",
    "**Ejercicio B.2:**\n",
    "\n",
    "Convierta una ascensión recta $ar = 23.572$ a grados $^{\\circ}$, minutos $'$ y segundos $''$."
   ]
  },
  {
   "cell_type": "code",
   "execution_count": 2,
   "id": "7fb2e0b2-154d-42e0-b45c-b5018fa050fe",
   "metadata": {},
   "outputs": [
    {
     "name": "stdout",
     "output_type": "stream",
     "text": [
      "La Ascensión Recta 23.572 son 23.0 horas, 34.0 minutos y 19.199999999997033 segundos.\n",
      "Comprobamos haciendo la operación inversa y sale 23.572\n"
     ]
    }
   ],
   "source": [
    "ar = 23.572\n",
    "horas = ar // 1\n",
    "restoHoras = ar - horas\n",
    "\n",
    "minutosConDecimales = restoHoras * 60\n",
    "\n",
    "minutos = minutosConDecimales // 1\n",
    "restoMinutos = minutosConDecimales - minutos\n",
    "\n",
    "segundos = restoMinutos * 60\n",
    "\n",
    "print(f\"La Ascensión Recta {ar} son {horas} horas, {minutos} minutos y {segundos} segundos.\")\n",
    "\n",
    "comprobacion = horas + minutos / 60 + segundos / 60**2\n",
    "\n",
    "print(f\"Comprobamos haciendo la operación inversa y sale {comprobacion}\")"
   ]
  },
  {
   "cell_type": "markdown",
   "id": "e72294af-df01-443e-a9af-4153c19be2c6",
   "metadata": {},
   "source": [
    "***\n",
    "**Ejercicio B.3:**\n",
    "\n",
    "Hagamos un bloque de código que identifique un grupo de edad para una edad expresada en años según las siguientes tabla:\n",
    "\n",
    "* Menor de 2 años: Bebé\n",
    "* Entre 2 y 11 años: Niño\n",
    "* Entre 11 y 18 años: Adolescente\n",
    "* Entre 18 y 40 años: Adulto joven\n",
    "* Entre 40 y 60 años: Adulto que se cree joven\n",
    "* Entre 60 y 100 años: Viejuno\n",
    "* Más de 100 años: ¿Qué come esta persona?\n"
   ]
  },
  {
   "cell_type": "code",
   "execution_count": 3,
   "id": "0e68183f-3fcb-4f94-8a44-248a9d42e09c",
   "metadata": {},
   "outputs": [
    {
     "name": "stdout",
     "output_type": "stream",
     "text": [
      "Adulto que se cree joven\n"
     ]
    }
   ],
   "source": [
    "edad = 42  # Cambiar a distintos valores para comprobar nuestro código\n",
    "\n",
    "if edad < 2:\n",
    "    print(\"Bebé\")\n",
    "elif edad < 12:\n",
    "    print(\"Niño\")\n",
    "elif edad < 19:\n",
    "    print(\"Adolescente\")\n",
    "elif edad < 41:\n",
    "    print(\"Adulto joven\")\n",
    "elif edad < 61:\n",
    "    print(\"Adulto que se cree joven\")\n",
    "elif edad < 101:\n",
    "    print(\"Viejuno\")\n",
    "else:\n",
    "    print(\"¿Qué come esta persona?\")"
   ]
  },
  {
   "cell_type": "markdown",
   "id": "8606c7ed-2d86-45c9-8de2-7b622a16e948",
   "metadata": {},
   "source": [
    "***\n",
    "**Ejercicio B.4:**\n",
    "\n",
    "Para la lista dada más abajo consigue que quede con los Planetas ordenados (por proximidad al Sol) usando sustituciones, cortes, etc."
   ]
  },
  {
   "cell_type": "code",
   "execution_count": 4,
   "id": "0d1eff6c-3ceb-4178-88c8-fc7c1d56c4cb",
   "metadata": {},
   "outputs": [
    {
     "name": "stdout",
     "output_type": "stream",
     "text": [
      "['Mercurio', 'Venus', 'Tierra', 'Marte', 'Júpiter', 'Saturno', 'Urano', 'Neptuno']\n"
     ]
    }
   ],
   "source": [
    "planetas = [\"Mercurio\", \"Venus\", \"Plutón\", \"Tierra\", \"Júpiter\", \"Saturno\", \n",
    "            \"Marte\", \"Urano\", \"Neptuno\"]\n",
    "\n",
    "planetas.remove(\"Plutón\")  # ¿Qué hace este aquí?\n",
    "\n",
    "planetas = planetas[0:3] + planetas[5:6] + planetas[3:5] + planetas[6:8]\n",
    "\n",
    "print(planetas)  "
   ]
  },
  {
   "cell_type": "markdown",
   "id": "0b3b2ce3-aecf-4eea-9476-85611d9163b2",
   "metadata": {},
   "source": [
    "***\n",
    "**Ejercicio B.5:**\n",
    "\n",
    "Crear una lista llamada ```planetas``` que contenga diccionarios. Cada diccionario debe tener información sobre un planeta (nombre, distancia al Sol (en UAs), y si es terrestre o no. Por ejemplo, ```planetas[3]['terrestre']``` debe dar ```True``` y ```planetas[2]['distanciaSol']``` debe dar ```1.0```."
   ]
  },
  {
   "cell_type": "code",
   "execution_count": 5,
   "id": "e5a000ba-f5dd-48ee-b949-70e7cbbb98a0",
   "metadata": {},
   "outputs": [
    {
     "name": "stdout",
     "output_type": "stream",
     "text": [
      "True\n",
      "1.0\n"
     ]
    }
   ],
   "source": [
    "planetas = [\n",
    "    {'nombre': 'Mercurio',\n",
    "     'distanciaSol': 0.39,\n",
    "     'terrestre': True\n",
    "    },\n",
    "    {'nombre': 'Venus',\n",
    "     'distanciaSol': 0.72,\n",
    "     'terrestre': True\n",
    "    }, \n",
    "    {'nombre': 'Tierra',\n",
    "     'distanciaSol':1.0,\n",
    "     'terrestre': True\n",
    "    },\n",
    "    {'nombre': 'Marte',\n",
    "     'distanciaSol': 1.52,\n",
    "     'terrestre': True\n",
    "    },\n",
    "    {'nombre': 'Júpiter',\n",
    "     'distanciaSol': 5.2,\n",
    "     'terrestre': False\n",
    "    },\n",
    "    {'nombre': 'Saturno',\n",
    "     'distanciaSol': 9.54,\n",
    "     'terrestre': False\n",
    "    },\n",
    "    {'nombre': 'Urano',\n",
    "     'distanciaSol': 19.19,\n",
    "     'terrestre': False\n",
    "    },\n",
    "    {'nombre': 'Neptuno',\n",
    "     'distanciaSol': 30.06,\n",
    "     'terrestre': False\n",
    "    },\n",
    "]\n",
    "\n",
    "print(planetas[3]['terrestre'])\n",
    "print(planetas[2]['distanciaSol'])\n"
   ]
  },
  {
   "cell_type": "markdown",
   "id": "ef3a6acd-dd02-43e6-9e62-943bb2a4135a",
   "metadata": {},
   "source": [
    "***\n",
    "**Ejercicio B.6:**\n",
    "\n",
    "Dada una distancia en UAs imprimir el nombre del planeta cuya órbita está más cerca. Necesitamos el ejercicio B.5 resuelto."
   ]
  },
  {
   "cell_type": "code",
   "execution_count": 6,
   "id": "431c9e8a-467f-4c54-a83a-f574342d08ea",
   "metadata": {},
   "outputs": [
    {
     "name": "stdout",
     "output_type": "stream",
     "text": [
      "Júpiter\n"
     ]
    }
   ],
   "source": [
    "distancia = 3.76\n",
    "\n",
    "distanciaAOrbita = 10000000\n",
    "planetaMasCercano = None\n",
    "\n",
    "for planeta in planetas:\n",
    "    if distancia > planeta['distanciaSol']:      # Esto es un poco chapuzas, lo arreglaremos luego \n",
    "        d = distancia - planeta['distanciaSol']\n",
    "    else :                                 \n",
    "        d = planeta['distanciaSol'] - distancia \n",
    "    \n",
    "    if d < distanciaAOrbita:\n",
    "        distanciaAOrbita = d\n",
    "        planetaMasCercano = planeta\n",
    "\n",
    "print(planetaMasCercano['nombre'])"
   ]
  },
  {
   "cell_type": "markdown",
   "id": "7e6f8dcb-05f0-49c9-8559-28f23190be9f",
   "metadata": {},
   "source": [
    "***\n",
    "**Ejercicio B.7:**\n",
    "\n",
    "En el ejercicio B.1 calculamos el valor de una función polinómica de grado 2. Construyamos una función llamada ```polinomio``` que admita como parametros ```x```, ```a```, ```b``` y ```c``` y devuelva el resultado de la evaluación del polinomio."
   ]
  },
  {
   "cell_type": "code",
   "execution_count": 7,
   "id": "1032e784-0e31-47e3-a1ba-114aa5cc2806",
   "metadata": {},
   "outputs": [
    {
     "data": {
      "text/plain": [
       "8"
      ]
     },
     "execution_count": 7,
     "metadata": {},
     "output_type": "execute_result"
    }
   ],
   "source": [
    "def polinomio(x, a, b, c):\n",
    "    return a * x**2 + b * x + c\n",
    "    \n",
    "polinomio(2, 2, 1, -2)"
   ]
  },
  {
   "cell_type": "markdown",
   "id": "50ae7ea2-7d37-4b90-94e5-733ef299f30b",
   "metadata": {},
   "source": [
    "***\n",
    "**Ejercicio B.8:**\n",
    "    \n",
    "Hagamos una función ```evaluaPolinomio``` usando la función ```polinomio``` del ejercicio anterior devuelva una lista de tuplas $(x, f(x))$ evaluando el polinomio en diferentes $x$. Como parámetros debe admitir ```xMin```, ```xMax```, ```xStep``` (incremento de evaluación entre ```xMin``` y ```xMax```), ```a```, ```b``` y ```c```. Luego prueba las última líneas comentadas... ¡a ver que pasa!\n",
    "\n",
    "**Nota:** Para que funcione la última parte del ejercicio (que grafica el resultado) hace falta instalar un paquete de Python llamado ```matplotlib```. Para hacerlo abrimos un nuevo ```Anaconda prompt```, activamos el entorno ```cursoAstronomia``` y ejecutamos:\n",
    "\n",
    "```bash\n",
    "> conda install -c conda-forge matplotlib\n",
    "```\n",
    "\n",
    "Es posible que tengamos que reiniciar el Kernel de ```JupiterLab``` para que tenga efecto la instalación del nuevo paquete: ```Kernel``` $\\rightarrow$ ```Restart Kernel...```."
   ]
  },
  {
   "cell_type": "code",
   "execution_count": 8,
   "id": "fa318587-c409-4feb-ba76-83f4fca95418",
   "metadata": {},
   "outputs": [
    {
     "data": {
      "image/png": "[encoded data removed]",
      "text/plain": [
       "<Figure size 432x288 with 1 Axes>"
      ]
     },
     "metadata": {
      "needs_background": "light"
     },
     "output_type": "display_data"
    }
   ],
   "source": [
    "def evaluaPolinomio(xMin, xMax, xStep, a, b, c):\n",
    "    x = xMin\n",
    "    \n",
    "    puntos = []  # Lista vacia\n",
    "    \n",
    "    while x < xMax:\n",
    "        puntos.append( (x, polinomio(x, a, b, c)) )\n",
    "        \n",
    "        x = x + xStep\n",
    "        \n",
    "    return puntos\n",
    "\n",
    "puntos = evaluaPolinomio(-1, 1, .1, 2, 1, -2)\n",
    "\n",
    "import matplotlib.pyplot as plt    # Esto aún no hay que entenderlo. Lo veremos más adelante.\n",
    "x, y = zip(*puntos)\n",
    "plt.plot(x, y)\n",
    "plt.show()"
   ]
  },
  {
   "cell_type": "markdown",
   "id": "b9ec5b0a-4bbd-4162-b4bf-f4382dc6658e",
   "metadata": {},
   "source": [
    "***\n",
    "**Ejercicio B.9:**\n",
    "\n",
    "Hagamos una función similar a la del ejercicio B.7 llamada ```polinomioN```, pero que acepte un argumento ```x``` con valor por defecto 0.0 y un número indeterminado de argumentos que serían los coeficientes ```a```, ```b```, ```c``` del polinomio de grado igual al número de coeficientes menos uno (si te pasan 3 parámetros será un polinomio de grado 2)."
   ]
  },
  {
   "cell_type": "code",
   "execution_count": 9,
   "id": "4f408e16-2d02-4a50-b30e-3904bc524430",
   "metadata": {},
   "outputs": [
    {
     "name": "stdout",
     "output_type": "stream",
     "text": [
      "32.0\n"
     ]
    }
   ],
   "source": [
    "def polinomioN(*coef, x = 0.0):\n",
    "    coeficienteActual = len(coef) - 1\n",
    "    \n",
    "    res = 0\n",
    "    \n",
    "    for c in coef:\n",
    "        res = res + c * x ** coeficienteActual\n",
    "        coeficienteActual = coeficienteActual - 1\n",
    "    \n",
    "    return res\n",
    "\n",
    "print(polinomioN(3, 2, 1, -2, x=2.0))"
   ]
  },
  {
   "cell_type": "markdown",
   "id": "723c547f-4895-4431-a065-6c7ff4df6b28",
   "metadata": {},
   "source": [
    "***\n",
    "**Ejercicio B.10:**\n",
    "\n",
    "Creemos una función ```evaluaF``` similar a la del ejercicio B.8 que evalue en varios puntos (de ```xMin``` a ```xMax``` en pasos de ```xStep```). Pasaremos como parámetro una nueva función ```raizCubica``` y ```sierra``` que viene definida por $sierra(x) = x \\pmod 1$.\n",
    "\n"
   ]
  },
  {
   "cell_type": "code",
   "execution_count": 10,
   "id": "d503d63f-1891-44c4-aad9-fa8c6f78349f",
   "metadata": {},
   "outputs": [
    {
     "data": {
      "image/png": "[encoded data removed]",
      "text/plain": [
       "<Figure size 432x288 with 1 Axes>"
      ]
     },
     "metadata": {
      "needs_background": "light"
     },
     "output_type": "display_data"
    }
   ],
   "source": [
    "def raizCubica(x):\n",
    "    return x**(1.0/3.0)\n",
    "\n",
    "def sierra(x):\n",
    "    return x%1\n",
    "\n",
    "def evaluaF(func, xMin = 0, xMax = 4.0, xStep = 0.01):\n",
    "    x = xMin\n",
    "    \n",
    "    puntos = []  \n",
    "    \n",
    "    while x < xMax:\n",
    "        puntos.append( (x, func(x)) )\n",
    "        \n",
    "        x = x + xStep\n",
    "        \n",
    "    return puntos\n",
    "\n",
    "puntos1 = evaluaF(raizCubica)\n",
    "puntos2 = evaluaF(sierra)\n",
    "\n",
    "import matplotlib.pyplot as plt   \n",
    "x, y = zip(*puntos1)\n",
    "plt.plot(x, y)\n",
    "x, y = zip(*puntos2)\n",
    "plt.plot(x, y)\n",
    "plt.show()"
   ]
  },
  {
   "cell_type": "markdown",
   "id": "86e22339-c1ab-4e9d-8b5d-597aa605e4e8",
   "metadata": {},
   "source": [
    "***\n",
    "**Ejercicio B.11:**\n",
    "\n",
    "Si quisieramos listar todos los números primos menores de un valor ```n``` utilizar la función anteriormente definida ```esPrimo()``` para cada valor posible sería bastante ineficiente. Vamos a implementar una función que haga la [criba de Eratóstenes](https://es.wikipedia.org/wiki/Criba_de_Erat%C3%B3stenes) que devuelva una lista de todos los primos menores de ```n```."
   ]
  },
  {
   "cell_type": "code",
   "execution_count": 11,
   "id": "5fdbe463-5650-40f6-94bb-691da97760c4",
   "metadata": {},
   "outputs": [
    {
     "name": "stdout",
     "output_type": "stream",
     "text": [
      "Obtener los primos menores que 20000 con la función esPrimo ha llevado 0.8800902309994854 segundos.\n",
      "Obtener los primos menores que 20000 con la criba de Eratóstenes ha llevado 0.0023441780012944946 segundos.\n"
     ]
    }
   ],
   "source": [
    "n = 20000\n",
    "\n",
    "def esPrimo(numero):\n",
    "    for n in range(2, numero):\n",
    "        if (numero % n == 0):\n",
    "            return False\n",
    "        \n",
    "    return True\n",
    "\n",
    "def getPrimosMenores(n):\n",
    "    primos = []\n",
    "\n",
    "    for i in range(2, n):\n",
    "        if (esPrimo(i)):\n",
    "            primos.append(i)\n",
    "            \n",
    "    return primos \n",
    "\n",
    "def cribaEratostenes(n):\n",
    "    posiblesPrimos = [True for x in range(n)]   # Inicializamos una tabla con n \"True\". Esta tbla marcará i un numero es primo\n",
    "    \n",
    "    i = 2\n",
    "    \n",
    "    while i*i <= n:\n",
    "        if posiblesPrimos[i]:             # Si el numero por el que vamos es primo\n",
    "            for h in range(i*2, n, i):    # Recorremos los multiplos de este numero por encima\n",
    "                posiblesPrimos[h] = False # Y los vamos tachando\n",
    "                \n",
    "        i = i + 1\n",
    "    \n",
    "    primos = []\n",
    "    \n",
    "    for i in range(2, n):\n",
    "        if posiblesPrimos[i]:\n",
    "            primos.append(i)\n",
    "            \n",
    "    return primos\n",
    "\n",
    "import time\n",
    "\n",
    "t1 = time.perf_counter()\n",
    "primos = getPrimosMenores(n)\n",
    "t2 = time.perf_counter()\n",
    "print(f\"Obtener los primos menores que {n} con la función esPrimo ha llevado {t2-t1} segundos.\")\n",
    "#print(primos)\n",
    "\n",
    "t1 = time.perf_counter()\n",
    "primos = cribaEratostenes(n)\n",
    "t2 = time.perf_counter()\n",
    "print(f\"Obtener los primos menores que {n} con la criba de Eratóstenes ha llevado {t2-t1} segundos.\")\n",
    "#print(primos)\n",
    "\n"
   ]
  },
  {
   "cell_type": "markdown",
   "id": "9de9f36b-b4ce-4009-b12b-10d16ba542d8",
   "metadata": {},
   "source": [
    "***\n",
    "**Ejercicio B.12:**\n",
    "\n",
    "Creemos una clase llamada ```Polinomio``` que nos permita encapsular la información de un polinomio de grado arbitrario ```n```. Dicha clase debe almacenar la información de sus coeficientes y debe proveer métodos para:\n",
    "\n",
    "+ obtener los coeficientes del polinomio, \n",
    "+ para obtener el coeficiente con índice ```n```, \n",
    "+ para obtener el grado del polinomio,\n",
    "+ para evaluar el polinomio en cualquier punto ```x``` y \n",
    "+ para obtener una lista de puntos evaluados similar a la del ejercicio B.8."
   ]
  },
  {
   "cell_type": "code",
   "execution_count": 12,
   "id": "c2c9c3fc-7a13-4c6d-b792-daa7dae2f538",
   "metadata": {},
   "outputs": [
    {
     "name": "stdout",
     "output_type": "stream",
     "text": [
      "Los coeficientes del polinomio: (1.25, 2, -1, -2)\n",
      "El coeficiente de grado 2 es: 2\n",
      "El grado del polinomio es: 3\n",
      "El polinomio en x=2.0 vale: 14.0\n"
     ]
    },
    {
     "data": {
      "image/png": "[encoded data removed]",
      "text/plain": [
       "<Figure size 432x288 with 1 Axes>"
      ]
     },
     "metadata": {
      "needs_background": "light"
     },
     "output_type": "display_data"
    }
   ],
   "source": [
    "class Polinomio:\n",
    "    coeficientes = []\n",
    "    \n",
    "    def __init__(self, *coeficientes):\n",
    "        self.coeficientes = coeficientes\n",
    "        \n",
    "    def getCoeficiente(self, grado):\n",
    "        return self.coeficientes[self.getGrado()-grado]\n",
    "    \n",
    "    def getGrado(self):\n",
    "        return len(self.coeficientes) - 1\n",
    "    \n",
    "    def evalua(self, x):\n",
    "        coeficienteActual = self.getGrado()\n",
    "        \n",
    "        res = 0\n",
    "        for c in self.coeficientes:\n",
    "            res = res + c * x ** coeficienteActual\n",
    "            coeficienteActual = coeficienteActual - 1\n",
    "            \n",
    "        return res\n",
    "    \n",
    "    def evaluaF(self, xMin = -2, xMax = 2, xStep = 0.01):\n",
    "        x = xMin\n",
    "    \n",
    "        puntos = []  \n",
    "    \n",
    "        while x < xMax:\n",
    "            puntos.append( (x, self.evalua(x)) )\n",
    "        \n",
    "            x = x + xStep\n",
    "        \n",
    "        return puntos\n",
    "    \n",
    "pol1 = Polinomio(1.25, 2, -1, -2)\n",
    "\n",
    "print(f\"Los coeficientes del polinomio: {pol1.coeficientes}\")\n",
    "\n",
    "print(f\"El coeficiente de grado 2 es: {pol1.getCoeficiente(2)}\")\n",
    "\n",
    "print(f\"El grado del polinomio es: {pol1.getGrado()}\")\n",
    "\n",
    "print(f\"El polinomio en x=2.0 vale: {pol1.evalua(2.0)}\")\n",
    "\n",
    "puntos1 = pol1.evaluaF()\n",
    "\n",
    "pol2 = Polinomio(2, 0, 0)\n",
    "puntos2 = pol2.evaluaF()\n",
    "\n",
    "import matplotlib.pyplot as plt   \n",
    "x, y = zip(*puntos1)\n",
    "plt.plot(x, y)\n",
    "x, y = zip(*puntos2)\n",
    "plt.plot(x, y)\n",
    "plt.show()"
   ]
  }
 ],
 "metadata": {
  "kernelspec": {
   "display_name": "Python 3",
   "language": "python",
   "name": "python3"
  },
  "language_info": {
   "codemirror_mode": {
    "name": "ipython",
    "version": 3
   },
   "file_extension": ".py",
   "mimetype": "text/x-python",
   "name": "python",
   "nbconvert_exporter": "python",
   "pygments_lexer": "ipython3",
   "version": "3.8.13"
  }
 },
 "nbformat": 4,
 "nbformat_minor": 5
}
