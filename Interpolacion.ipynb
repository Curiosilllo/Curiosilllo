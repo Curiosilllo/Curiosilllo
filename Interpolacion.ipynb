{
  "nbformat": 4,
  "nbformat_minor": 0,
  "metadata": {
    "colab": {
      "name": "Interpolacion.ipynb",
      "provenance": [],
      "collapsed_sections": [],
      "authorship_tag": "ABX9TyPZ078jNRTokIv2iRvkRyVI",
      "include_colab_link": true
    },
    "kernelspec": {
      "name": "python3",
      "display_name": "Python 3"
    },
    "language_info": {
      "name": "python"
    }
  },
  "cells": [
    {
      "cell_type": "markdown",
      "metadata": {
        "id": "view-in-github",
        "colab_type": "text"
      },
      "source": [
        "<a href=\"https://colab.research.google.com/github/Curiosilllo/Curiosilllo/blob/main/Interpolacion.ipynb\" target=\"_parent\"><img src=\"https://colab.research.google.com/assets/colab-badge.svg\" alt=\"Open In Colab\"/></a>"
      ]
    },
    {
      "cell_type": "code",
      "metadata": {
        "id": "9x4wrw4NE1Li"
      },
      "source": [
        "import numpy as np"
      ],
      "execution_count": null,
      "outputs": []
    },
    {
      "cell_type": "markdown",
      "metadata": {
        "id": "MVGqXhjbm7M2"
      },
      "source": [
        "$INTERPOLACION$ $DE$ $LAGRANGE$"
      ]
    },
    {
      "cell_type": "code",
      "metadata": {
        "colab": {
          "base_uri": "https://localhost:8080/"
        },
        "id": "bkRFuIJ5E7L9",
        "outputId": "288821b3-a61c-40aa-ddc0-cfa5b402d3c0"
      },
      "source": [
        "a=2.5 #Punto en el que se desea interpolar\n",
        "n=6 #Número de puntos\n",
        "\n",
        "x=np.array([1.,2.,3.,4.,5.,6.])\n",
        "y=np.array([1.,4.,9.,16.,25.,36.])\n",
        "\n",
        "\n",
        "sume=0.0\n",
        "#Fact=1 , si lo pongo aquí no funciona el programa\n",
        "for i in range(0,n,1):  \n",
        "  Fact=1 #Al volver a tomar este valor los valores anteriores no se acomulan\n",
        "  for j in range(0,n,1):\n",
        "  #llega hasta 5\n",
        "    if (i != j) :\n",
        "      Fact=((a-x[j])/(x[i]-x[j]))*Fact\n",
        "  Term=Fact*y[i]\n",
        "  #Polinomio\n",
        "  sume= Term + sume\n",
        "#Resultados\n",
        "print(sume)\n",
        "print((2.5)**2)"
      ],
      "execution_count": null,
      "outputs": [
        {
          "output_type": "stream",
          "text": [
            "0\n",
            "1\n",
            "2\n",
            "3\n",
            "4\n",
            "5\n",
            "6.25\n",
            "6.25\n"
          ],
          "name": "stdout"
        }
      ]
    },
    {
      "cell_type": "markdown",
      "metadata": {
        "id": "R3bEyXO_Xgxu"
      },
      "source": [
        "$INTERPOLACION$ $DE$ $NEWTON$, $HACIA$ $ADELANTE$"
      ]
    },
    {
      "cell_type": "markdown",
      "metadata": {
        "id": "IkN2ljvlyYFg"
      },
      "source": [
        "Se usan para valores a la izquierda del valor media"
      ]
    },
    {
      "cell_type": "code",
      "metadata": {
        "colab": {
          "base_uri": "https://localhost:8080/"
        },
        "id": "PlfG85-MWwTI",
        "outputId": "158eb25d-f5f8-49f2-c2d6-b802503e9e70"
      },
      "source": [
        "#Valor a interpolar\n",
        "xint=0.45\n",
        "#Valores de x\n",
        "x=np.array([0.,0.25,0.5])\n",
        "#Igualmente espaciados\n",
        "h=x[1]-x[0]\n",
        "#Valor de \"S\"\n",
        "s=(xint-x[0])/h\n",
        "#Valores de y\n",
        "tab=np.zeros((3,3))\n",
        "#TABLAS DE DIFERENCIAS\n",
        "tab[:,0]=(0.9,0.8,0.6)\n",
        "for j in range(1,3,1):\n",
        "#Columnas\n",
        "  for i in range(0,3-j,1):\n",
        "#Filas\n",
        "    tab[i,j]=tab[i+1,j-1]-tab[i,j-1]\n",
        "\n",
        "\n",
        "sumita=0.0\n",
        "combi=1.0\n",
        "for j in range(1,3,1):\n",
        "  #Definimos el factorial\n",
        "  divisor = np.math.factorial(j)\n",
        "  #Definimos la combinatoria\n",
        "  combi=combi*(s-(j-1))\n",
        "  #Termino del polinomio\n",
        "  pinterp=(tab[0,j]*combi)/divisor\n",
        "  #Acumulador\n",
        "  sumita=pinterp+sumita\n",
        "#Al final sumamos el primer valor\n",
        "#Polinomio interpolado\n",
        "print(sumita+tab[0,0])"
      ],
      "execution_count": null,
      "outputs": [
        {
          "output_type": "stream",
          "text": [
            "0.6479999999999999\n"
          ],
          "name": "stdout"
        }
      ]
    },
    {
      "cell_type": "code",
      "metadata": {
        "colab": {
          "base_uri": "https://localhost:8080/"
        },
        "id": "S6rBwcxqoCAu",
        "outputId": "99d853e2-1135-45ac-d2e2-3ef3606f3719"
      },
      "source": [
        "#Valor a interpolar\n",
        "xint=162.0\n",
        "#Valores de x\n",
        "x=np.array([150.,160.,170.,180.,190.,200.,210.])\n",
        "#Igualmente espaciados\n",
        "h=x[1]-x[0]\n",
        "#Valor de \"S\"\n",
        "s=(xint-x[0])/h\n",
        "#Valores de y\n",
        "tab=np.zeros((7,7))\n",
        "#TABLAS DE DIFERENCIAS\n",
        "tab[:,0]=(33.5,37.8,43.6,45.7,47.3,50.1,51.2)\n",
        "for j in range(1,7,1):\n",
        "#Columnas\n",
        "  for i in range(0,7-j,1):\n",
        "#Filas\n",
        "    tab[i,j]=tab[i+1,j-1]-tab[i,j-1]\n",
        "\n",
        "\n",
        "sumita=0.0\n",
        "combi=1.0\n",
        "for j in range(1,7,1):\n",
        "  #Definimos el factorial\n",
        "  divisor = np.math.factorial(j)\n",
        "  #Definimos la combinatoria\n",
        "  combi=combi*(s-(j-1))\n",
        "  #Termino del polinomio\n",
        "  pinterp=(tab[0,j]*combi)/divisor\n",
        "  #Acumulador\n",
        "  sumita=pinterp+sumita\n",
        "#Al final sumamos el primer valor\n",
        "#Polinomio interpolado\n",
        "print(sumita+tab[0,0])"
      ],
      "execution_count": null,
      "outputs": [
        {
          "output_type": "stream",
          "text": [
            "39.24192256\n"
          ],
          "name": "stdout"
        }
      ]
    },
    {
      "cell_type": "markdown",
      "metadata": {
        "id": "BEo0e4mmv3kH"
      },
      "source": [
        "$INTERPOLACION$ $DE$ $NEWTON$, $HACIA$ $ATRAS$"
      ]
    },
    {
      "cell_type": "markdown",
      "metadata": {
        "id": "5W6K_9DQyfIs"
      },
      "source": [
        "Se usan para valores a la derecha del valor media"
      ]
    },
    {
      "cell_type": "code",
      "metadata": {
        "colab": {
          "base_uri": "https://localhost:8080/"
        },
        "id": "n1WMaixiv4in",
        "outputId": "f8e5a951-eeb0-410a-9c27-6ffdb094ee7d"
      },
      "source": [
        "#Valor a interpolar\n",
        "xint=205.0\n",
        "#Valores de x\n",
        "x=np.array([150.,160.,170.,180.,190.,200.,210.])\n",
        "#Igualmente espaciados\n",
        "h=x[1]-x[0]\n",
        "#Valor de \"S\"\n",
        " #***************************\n",
        "s=(x[6]-xint)/h\n",
        "#Valores de y\n",
        "tab=np.zeros((7,7))\n",
        "#TABLAS DE DIFERENCIAS\n",
        "tab[:,0]=(33.5,37.8,43.6,45.7,47.3,50.1,51.2)\n",
        "for j in range(1,7,1):\n",
        "#Columnas\n",
        " #***************************\n",
        "  for i in range(j,7,1):\n",
        "#Filas\n",
        " #***************************\n",
        "    tab[i,j]=tab[i,j-1]-tab[i-1,j-1]\n",
        "\n",
        "sumita=0.0\n",
        "combi=1.0\n",
        "for j in range(1,7,1):\n",
        "  #Definimos el factorial\n",
        "  divisor = np.math.factorial(j)\n",
        "  #Definimos la combinatoria\n",
        "   #***************************\n",
        "  combi=combi*(s+(j-1))\n",
        "  #Termino del polinomio\n",
        "  #***************************\n",
        "  pinterp=(tab[6,j]*combi)/divisor\n",
        "  #Acumulador\n",
        "  sumita=pinterp+sumita\n",
        "#Al final sumamos el primer valor\n",
        "#Polinomio interpolado\n",
        " #***************************\n",
        "print(sumita+tab[6,0])"
      ],
      "execution_count": null,
      "outputs": [
        {
          "output_type": "stream",
          "text": [
            "49.71953124999996\n"
          ],
          "name": "stdout"
        }
      ]
    },
    {
      "cell_type": "markdown",
      "metadata": {
        "id": "UQyf8TKhGCeG"
      },
      "source": [
        ""
      ]
    }
  ]
}