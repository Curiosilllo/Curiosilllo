{
  "nbformat": 4,
  "nbformat_minor": 0,
  "metadata": {
    "colab": {
      "name": "Solucion de eq no lineales.ipynb",
      "provenance": [],
      "collapsed_sections": [],
      "authorship_tag": "ABX9TyOx7Alkuox+dHJX7IEhFpuk",
      "include_colab_link": true
    },
    "kernelspec": {
      "name": "python3",
      "display_name": "Python 3"
    },
    "language_info": {
      "name": "python"
    }
  },
  "cells": [
    {
      "cell_type": "markdown",
      "metadata": {
        "id": "view-in-github",
        "colab_type": "text"
      },
      "source": [
        "<a href=\"https://colab.research.google.com/github/Curiosilllo/Curiosilllo/blob/main/Solucion_de_eq_no_lineales.ipynb\" target=\"_parent\"><img src=\"https://colab.research.google.com/assets/colab-badge.svg\" alt=\"Open In Colab\"/></a>"
      ]
    },
    {
      "cell_type": "markdown",
      "metadata": {
        "id": "2FDU-81B7Zlb"
      },
      "source": [
        "$METODO$ $DE$ $LA$ $BISECCION$"
      ]
    },
    {
      "cell_type": "code",
      "metadata": {
        "colab": {
          "base_uri": "https://localhost:8080/"
        },
        "id": "DjXU7NCvYDV6",
        "outputId": "5f9e24c7-b1f5-47c3-b26d-263848c61a29"
      },
      "source": [
        "import numpy as np\n",
        "a = float(input(\"Introduzca el valor del extremo izquierdo del rango\"))\n",
        "c = float(input(\"Introduzca el valor del extremo derechho del rango\"))\n",
        "b=(a+c)/2.0\n",
        "def fun(x):\n",
        "  return x* np.sin(x)-0.1\n",
        "ya=fun(a)\n",
        "yb=fun(b)\n",
        "yc=fun(c)\n",
        "#Num de iteraciones\n",
        "i=0\n",
        "while (abs(c-a)>.00001): \n",
        "        if (ya*yb < 0.0):\n",
        "            c=b\n",
        "            yc=yb\n",
        "        else :\n",
        "            a=b\n",
        "            ya=yb\n",
        "        i=i+1\n",
        "        print( \"La solución es\", i,b)\n",
        "        b=(a+c)/2.0\n",
        "        yb=fun(b)"
      ],
      "execution_count": null,
      "outputs": [
        {
          "output_type": "stream",
          "text": [
            "Introduzca el valor del extremo izquierdo del rango0.0\n",
            "Introduzca el valor del extremo derechho del rango1.0\n",
            "La solución es 1 0.5\n",
            "La solución es 2 0.25\n",
            "La solución es 3 0.375\n",
            "La solución es 4 0.3125\n",
            "La solución es 5 0.34375\n",
            "La solución es 6 0.328125\n",
            "La solución es 7 0.3203125\n",
            "La solución es 8 0.31640625\n",
            "La solución es 9 0.318359375\n",
            "La solución es 10 0.3193359375\n",
            "La solución es 11 0.31884765625\n",
            "La solución es 12 0.319091796875\n",
            "La solución es 13 0.3189697265625\n",
            "La solución es 14 0.31890869140625\n",
            "La solución es 15 0.318939208984375\n",
            "La solución es 16 0.3189239501953125\n",
            "La solución es 17 0.31893157958984375\n"
          ],
          "name": "stdout"
        }
      ]
    },
    {
      "cell_type": "markdown",
      "metadata": {
        "id": "EVaPTfZ67yF_"
      },
      "source": [
        "$METODO$ $DE$ $LA$ $FALSA$ $POSICION$"
      ]
    },
    {
      "cell_type": "code",
      "metadata": {
        "id": "oGKgQPBjr9HN",
        "colab": {
          "base_uri": "https://localhost:8080/"
        },
        "outputId": "95b9ed7f-04ea-4851-c7ea-b0e89aeb57cf"
      },
      "source": [
        "a=0.0\n",
        "c=12.0*np.arctan(1.0)\n",
        "i= 0\n",
        "\n",
        "def fun(x):\n",
        "  return np.tan(x)-x+1\n",
        "\n",
        "fa=fun(a); fc=fun(c)\n",
        "while (np.abs(c-a)>0.00000001):\n",
        "   i = i+1\n",
        "   b=(a*fc-c*fa)/(fc-fa) \n",
        "   fb=fun(b)\n",
        "   print(i, b) \n",
        "   if (fa*fb<0) :\n",
        "    c=b \n",
        "    fc=fb\n",
        "   else:\n",
        "    a=b\n",
        "    fa=fb\n",
        "  \n",
        "print(\"raiz\",b)\n",
        "\n"
      ],
      "execution_count": null,
      "outputs": [
        {
          "output_type": "stream",
          "text": [
            "1 1.0\n",
            "2 2.3144229819089888\n",
            "3 1.5170641764250725\n",
            "4 2.220906484549939\n",
            "5 2.1343073001732216\n",
            "6 2.0536532882974314\n",
            "7 1.978123499678532\n",
            "8 1.907020946197436\n",
            "9 1.8397502088206579\n",
            "10 1.775799184928045\n",
            "11 1.7147242479835492\n",
            "12 1.6561381678707676\n",
            "13 1.5997002435324899\n",
            "14 1.5451082004497299\n",
            "15 1.5735869268199705\n",
            "16 1.5478589789326918\n",
            "17 1.5506139040984872\n",
            "18 1.5533730104549142\n",
            "19 1.556136332691454\n",
            "20 1.5589039056810898\n",
            "21 1.5616757644821393\n",
            "22 1.564451944340106\n",
            "23 1.5672324806895443\n",
            "24 1.5700174091559467\n",
            "25 1.5728067655576417\n",
            "26 1.572026952786183\n",
            "27 1.5712474877185139\n",
            "28 1.5704683695687491\n",
            "29 1.5709194460243494\n",
            "30 1.5705914657561932\n",
            "31 1.5707145705902055\n",
            "32 1.5708376840738814\n",
            "33 1.5707559259392967\n",
            "34 1.5707972822645542\n",
            "35 1.5707568813869215\n",
            "36 1.5707578368350674\n",
            "37 1.5707587922837343\n",
            "38 1.5707597477329225\n",
            "39 1.5707607031826314\n",
            "40 1.5707616586328612\n",
            "41 1.5707626140836122\n",
            "42 1.570763569534884\n",
            "43 1.570764524986677\n",
            "44 1.5707654804389912\n",
            "45 1.5707664358918265\n",
            "46 1.5707673913451827\n",
            "47 1.5707683467990599\n",
            "48 1.5707693022534581\n",
            "49 1.5707702577083773\n",
            "50 1.570771213163818\n",
            "51 1.5707721686197795\n",
            "52 1.570773124076262\n",
            "53 1.5707740795332654\n",
            "54 1.57077503499079\n",
            "55 1.5707759904488356\n",
            "56 1.5707769459074024\n",
            "57 1.5707779013664902\n",
            "58 1.5707788568260992\n",
            "59 1.5707798122862293\n",
            "60 1.5707807677468804\n",
            "61 1.5707817232080525\n",
            "62 1.5707826786697456\n",
            "63 1.5707836341319599\n",
            "64 1.5707845895946952\n",
            "65 1.5707855450579518\n",
            "66 1.5707865005217294\n",
            "67 1.5707874559860282\n",
            "68 1.5707884114508481\n",
            "69 1.570789366916189\n",
            "70 1.5707903223820507\n",
            "71 1.5707912778484339\n",
            "72 1.570792233315338\n",
            "73 1.5707931887827629\n",
            "74 1.570794144250709\n",
            "75 1.5707950997191762\n",
            "76 1.5707960551881643\n",
            "77 1.5707970106576736\n",
            "78 1.5707967390508355\n",
            "79 1.5707964674440393\n",
            "80 1.5707961958372854\n",
            "81 1.5707963364864175\n",
            "82 1.5707962055288054\n",
            "83 1.5707962152203254\n",
            "84 1.5707962249118455\n",
            "85 1.570796234603366\n",
            "86 1.570796244294886\n",
            "87 1.5707962539864062\n",
            "88 1.5707962636779267\n",
            "89 1.5707962733694472\n",
            "90 1.5707962830609679\n",
            "91 1.5707962927524886\n",
            "92 1.5707963024440093\n",
            "93 1.57079631213553\n",
            "94 1.5707963218270506\n",
            "95 1.5707963315185716\n",
            "raiz 1.5707963315185716\n"
          ],
          "name": "stdout"
        }
      ]
    },
    {
      "cell_type": "markdown",
      "metadata": {
        "id": "hNSUjA_HScAf"
      },
      "source": [
        "$METODO$ $DE$ $NEWTON$"
      ]
    },
    {
      "cell_type": "code",
      "metadata": {
        "colab": {
          "base_uri": "https://localhost:8080/"
        },
        "id": "lhn4TIgid8E7",
        "outputId": "2cd3b0bb-50b6-45eb-ea50-5648d2022be8"
      },
      "source": [
        "#Variables\n",
        "fx= lambda x: x**3+4*(x**2)-10\n",
        "dfx= lambda x: 3*(x**2)+8*x\n",
        "\n",
        "#Las expresiones lambda también se conocen como funciones anónimas. \n",
        "#Las expresiones lambda en \n",
        "#Python son una forma corta de declarar funciones pequeñas\n",
        "# y anónimas (no es necesario proporcionar un nombre para las funciones lambda)\n",
        "#Datos\n",
        "x0= 2.0\n",
        "tolera=0.0001\n",
        "tramo=1.0\n",
        "#Procedimiento\n",
        "xi=x0\n",
        "while(tramo>tolera):\n",
        "  xn=xi-(fx(xi)/dfx(xi))\n",
        "  tramo=abs(xi-xn)\n",
        "  xi=xn\n",
        "#Resultado\n",
        "print(xi)\n",
        "print(tramo)"
      ],
      "execution_count": null,
      "outputs": [
        {
          "output_type": "stream",
          "text": [
            "1.3652300139161466\n",
            "3.200095847999407e-05\n"
          ],
          "name": "stdout"
        }
      ]
    },
    {
      "cell_type": "markdown",
      "metadata": {
        "id": "JyX-3S2_eHZL"
      },
      "source": [
        "$METODO$ $DE$ $LA$ $SECANTE$"
      ]
    },
    {
      "cell_type": "code",
      "metadata": {
        "id": "XoMeI80SeLDN"
      },
      "source": [
        ""
      ],
      "execution_count": null,
      "outputs": []
    }
  ]
}